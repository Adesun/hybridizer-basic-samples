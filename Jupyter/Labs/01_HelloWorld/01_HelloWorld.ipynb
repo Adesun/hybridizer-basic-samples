{
 "cells": [
  {
   "cell_type": "markdown",
   "metadata": {},
   "source": [
    "# Hybridizer Hello World\n",
    "\n",
    "This is hello world app sample - minimalist application with Hybridizer.\n",
    "\n",
    "Here is a code snippet for this minimalist sample:\n",
    "```csharp\n",
    "\n",
    "using Hybridizer.Runtime.CUDAImports;\n",
    "using System;\n",
    "using System.Diagnostics;\n",
    "using System.Threading.Tasks;\n",
    "\n",
    "namespace HelloWorld\n",
    "{\n",
    "    class Program\n",
    "    {\n",
    "        [EntryPoint]\n",
    "        public static void Run()\n",
    "        {\n",
    "            Console.Out.WriteLine(\"Hello From GPU\") ;\n",
    "        }\n",
    "\n",
    "        static void Main(string[] args)\n",
    "        {\n",
    "            dynamic wrapped = HybRunner.Cuda().SetDistrib(1,1).Wrap(new Program()) ;\n",
    "            wrapped.Run () ;\n",
    "            \n",
    "            Console.Out.WriteLine(\"DONE\");\n",
    "        }\n",
    "    }\n",
    "}\n",
    "            \n",
    "```"
   ]
  },
  {
   "cell_type": "code",
   "execution_count": null,
   "metadata": {},
   "outputs": [],
   "source": [
    "!hybridizer-cuda 01-hello-world.cs -o hello-world.exe -run"
   ]
  }
 ],
 "metadata": {
  "kernelspec": {
   "display_name": "Python 3",
   "language": "python",
   "name": "python3"
  },
  "language_info": {
   "codemirror_mode": {
    "name": "ipython",
    "version": 3
   },
   "file_extension": ".py",
   "mimetype": "text/x-python",
   "name": "python",
   "nbconvert_exporter": "python",
   "pygments_lexer": "ipython3",
   "version": "3.6.4"
  }
 },
 "nbformat": 4,
 "nbformat_minor": 2
}
