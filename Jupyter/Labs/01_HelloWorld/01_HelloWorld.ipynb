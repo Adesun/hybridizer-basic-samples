{
 "cells": [
  {
   "cell_type": "markdown",
   "metadata": {},
   "source": [
    "# Hybridizer Hello World\n",
    "\n",
    "This is hello world app sample - minimalist application with Hybridizer.\n",
    "\n",
    "Here is a code snippet for this minimalist sample:\n",
    "```csharp\n",
    "\n",
    "using Hybridizer.Runtime.CUDAImports;\n",
    "using System;\n",
    "using System.Diagnostics;\n",
    "using System.Threading.Tasks;\n",
    "\n",
    "namespace HelloWorld\n",
    "{\n",
    "    class Program\n",
    "    {\n",
    "        [EntryPoint]\n",
    "        public static void Run()\n",
    "        {\n",
    "            Console.Out.WriteLine(\"Hello World\") ;\n",
    "        }\n",
    "\n",
    "        static void Main(string[] args)\n",
    "        {\n",
    "            dynamic wrapped = HybRunner.Cuda().SetDistrib(1,1).Wrap(new Program()) ;\n",
    "            wrapped.Run () ;\n",
    "            \n",
    "            Console.Out.WriteLine(\"DONE\");\n",
    "        }\n",
    "    }\n",
    "}\n",
    "            \n",
    "```\n",
    "\n",
    "Edit [`01-hello-world.cs`](../../edit/01_HelloWorld/01-hello-world.cs) to say hello from the GPU."
   ]
  },
  {
   "cell_type": "code",
   "execution_count": 1,
   "metadata": {},
   "outputs": [
    {
     "name": "stdout",
     "output_type": "stream",
     "text": [
      "[WARNING] : EntryPoint attribute with empty or null name for method <Run> in type <HelloWorld.Program>, using default symbols instead\n",
      "[WARN] : built-in configuration file C:\\Program Files (x86)\\Microsoft Visual Studio\\2017\\Community\\Common7\\IDE\\Extensions\\Altimesh\\Hybridizer Essentials\\include\\hybridizer.cuda.builtins not found\n",
      "[DONE]\n",
      "hybridizer.generated.cpp\n",
      "c1xx: fatal error C1083: Cannot open source file: 'hybrid/hybridizer.generated.cpp': No such file or directory\n",
      "\n"
     ]
    },
    {
     "name": "stderr",
     "output_type": "stream",
     "text": [
      "\n",
      "[ERROR] : Exception in Hybridizer FindMethodsAndTypes for type HelloWorld.Program processing method Run : 0X605D : cannot create an instance of a gc type within hybridized code <System.IO.StreamWriter> <error>:0</error> \n",
      "\n",
      "process nvcc failed with return code 2\n"
     ]
    }
   ],
   "source": [
    "!hybridizer-cuda 01-hello-world.cs -o hello-world.exe -run"
   ]
  }
 ],
 "metadata": {
  "kernelspec": {
   "display_name": "Python 3",
   "language": "python",
   "name": "python3"
  },
  "language_info": {
   "codemirror_mode": {
    "name": "ipython",
    "version": 3
   },
   "file_extension": ".py",
   "mimetype": "text/x-python",
   "name": "python",
   "nbconvert_exporter": "python",
   "pygments_lexer": "ipython3",
   "version": "3.6.1"
  }
 },
 "nbformat": 4,
 "nbformat_minor": 2
}
